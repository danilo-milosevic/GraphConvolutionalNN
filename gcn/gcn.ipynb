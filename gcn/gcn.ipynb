{
 "cells": [
  {
   "cell_type": "markdown",
   "metadata": {},
   "source": [
    "# Primena GCN-a nad Cora skupom podataka"
   ]
  },
  {
   "cell_type": "markdown",
   "metadata": {},
   "source": [
    "Cilj je predvideti vrstu naučnog rada na osnovu citiranih radova\\\n",
    "Skup podataka je dat kao niz čvorova koji predstavljaju atribute radova, dok grana između čvora $i$ i čvora $j$ označava da rad $i$ citira rad $j$ "
   ]
  },
  {
   "cell_type": "code",
   "execution_count": 3,
   "metadata": {},
   "outputs": [
    {
     "name": "stdout",
     "output_type": "stream",
     "text": [
      "Requirement already satisfied: torch_geometric in c:\\users\\danilo\\appdata\\local\\programs\\python\\python312\\lib\\site-packages (2.6.1)\n",
      "Collecting torch\n",
      "  Downloading torch-2.5.1-cp312-cp312-win_amd64.whl.metadata (28 kB)\n",
      "Requirement already satisfied: aiohttp in c:\\users\\danilo\\appdata\\local\\programs\\python\\python312\\lib\\site-packages (from torch_geometric) (3.10.10)\n",
      "Requirement already satisfied: fsspec in c:\\users\\danilo\\appdata\\local\\programs\\python\\python312\\lib\\site-packages (from torch_geometric) (2024.10.0)\n",
      "Requirement already satisfied: jinja2 in c:\\users\\danilo\\appdata\\local\\programs\\python\\python312\\lib\\site-packages (from torch_geometric) (3.1.2)\n",
      "Requirement already satisfied: numpy in c:\\users\\danilo\\appdata\\local\\programs\\python\\python312\\lib\\site-packages (from torch_geometric) (1.26.3)\n",
      "Requirement already satisfied: psutil>=5.8.0 in c:\\users\\danilo\\appdata\\local\\programs\\python\\python312\\lib\\site-packages (from torch_geometric) (5.9.7)\n",
      "Requirement already satisfied: pyparsing in c:\\users\\danilo\\appdata\\local\\programs\\python\\python312\\lib\\site-packages (from torch_geometric) (3.1.1)\n",
      "Requirement already satisfied: requests in c:\\users\\danilo\\appdata\\local\\programs\\python\\python312\\lib\\site-packages (from torch_geometric) (2.31.0)\n",
      "Requirement already satisfied: tqdm in c:\\users\\danilo\\appdata\\local\\programs\\python\\python312\\lib\\site-packages (from torch_geometric) (4.66.2)\n",
      "Collecting filelock (from torch)\n",
      "  Downloading filelock-3.16.1-py3-none-any.whl.metadata (2.9 kB)\n",
      "Requirement already satisfied: typing-extensions>=4.8.0 in c:\\users\\danilo\\appdata\\local\\programs\\python\\python312\\lib\\site-packages (from torch) (4.11.0)\n",
      "Collecting networkx (from torch)\n",
      "  Downloading networkx-3.4.2-py3-none-any.whl.metadata (6.3 kB)\n",
      "Requirement already satisfied: setuptools in c:\\users\\danilo\\appdata\\local\\programs\\python\\python312\\lib\\site-packages (from torch) (69.0.3)\n",
      "Collecting sympy==1.13.1 (from torch)\n",
      "  Downloading sympy-1.13.1-py3-none-any.whl.metadata (12 kB)\n",
      "Collecting mpmath<1.4,>=1.1.0 (from sympy==1.13.1->torch)\n",
      "  Downloading mpmath-1.3.0-py3-none-any.whl.metadata (8.6 kB)\n",
      "Requirement already satisfied: aiohappyeyeballs>=2.3.0 in c:\\users\\danilo\\appdata\\local\\programs\\python\\python312\\lib\\site-packages (from aiohttp->torch_geometric) (2.4.3)\n",
      "Requirement already satisfied: aiosignal>=1.1.2 in c:\\users\\danilo\\appdata\\local\\programs\\python\\python312\\lib\\site-packages (from aiohttp->torch_geometric) (1.3.1)\n",
      "Requirement already satisfied: attrs>=17.3.0 in c:\\users\\danilo\\appdata\\local\\programs\\python\\python312\\lib\\site-packages (from aiohttp->torch_geometric) (23.1.0)\n",
      "Requirement already satisfied: frozenlist>=1.1.1 in c:\\users\\danilo\\appdata\\local\\programs\\python\\python312\\lib\\site-packages (from aiohttp->torch_geometric) (1.5.0)\n",
      "Requirement already satisfied: multidict<7.0,>=4.5 in c:\\users\\danilo\\appdata\\local\\programs\\python\\python312\\lib\\site-packages (from aiohttp->torch_geometric) (6.1.0)\n",
      "Requirement already satisfied: yarl<2.0,>=1.12.0 in c:\\users\\danilo\\appdata\\local\\programs\\python\\python312\\lib\\site-packages (from aiohttp->torch_geometric) (1.17.1)\n",
      "Requirement already satisfied: MarkupSafe>=2.0 in c:\\users\\danilo\\appdata\\local\\programs\\python\\python312\\lib\\site-packages (from jinja2->torch_geometric) (2.1.3)\n",
      "Requirement already satisfied: charset-normalizer<4,>=2 in c:\\users\\danilo\\appdata\\local\\programs\\python\\python312\\lib\\site-packages (from requests->torch_geometric) (3.3.2)\n",
      "Requirement already satisfied: idna<4,>=2.5 in c:\\users\\danilo\\appdata\\local\\programs\\python\\python312\\lib\\site-packages (from requests->torch_geometric) (3.6)\n",
      "Requirement already satisfied: urllib3<3,>=1.21.1 in c:\\users\\danilo\\appdata\\local\\programs\\python\\python312\\lib\\site-packages (from requests->torch_geometric) (2.1.0)\n",
      "Requirement already satisfied: certifi>=2017.4.17 in c:\\users\\danilo\\appdata\\local\\programs\\python\\python312\\lib\\site-packages (from requests->torch_geometric) (2023.11.17)\n",
      "Requirement already satisfied: colorama in c:\\users\\danilo\\appdata\\local\\programs\\python\\python312\\lib\\site-packages (from tqdm->torch_geometric) (0.4.6)\n",
      "Requirement already satisfied: propcache>=0.2.0 in c:\\users\\danilo\\appdata\\local\\programs\\python\\python312\\lib\\site-packages (from yarl<2.0,>=1.12.0->aiohttp->torch_geometric) (0.2.0)\n",
      "Downloading torch-2.5.1-cp312-cp312-win_amd64.whl (203.0 MB)\n",
      "   ---------------------------------------- 0.0/203.0 MB ? eta -:--:--\n",
      "   ---------------------------------------- 0.2/203.0 MB 4.6 MB/s eta 0:00:45\n",
      "   ---------------------------------------- 1.7/203.0 MB 18.4 MB/s eta 0:00:11\n",
      "   - -------------------------------------- 6.2/203.0 MB 43.9 MB/s eta 0:00:05\n",
      "   -- ------------------------------------- 10.9/203.0 MB 81.8 MB/s eta 0:00:03\n",
      "   -- ------------------------------------- 14.6/203.0 MB 93.9 MB/s eta 0:00:03\n",
      "   ---- ---------------------------------- 21.2/203.0 MB 108.8 MB/s eta 0:00:02\n",
      "   ----- --------------------------------- 27.5/203.0 MB 131.2 MB/s eta 0:00:02\n",
      "   ------ -------------------------------- 32.9/203.0 MB 131.2 MB/s eta 0:00:02\n",
      "   ------- ------------------------------- 38.4/203.0 MB 108.8 MB/s eta 0:00:02\n",
      "   -------- ------------------------------ 43.8/203.0 MB 108.8 MB/s eta 0:00:02\n",
      "   --------- ------------------------------ 47.6/203.0 MB 93.0 MB/s eta 0:00:02\n",
      "   ---------- ---------------------------- 54.4/203.0 MB 110.0 MB/s eta 0:00:02\n",
      "   ----------- --------------------------- 60.5/203.0 MB 131.2 MB/s eta 0:00:02\n",
      "   ------------ -------------------------- 66.2/203.0 MB 108.8 MB/s eta 0:00:02\n",
      "   ------------- ------------------------- 71.6/203.0 MB 108.8 MB/s eta 0:00:02\n",
      "   -------------- ------------------------ 77.1/203.0 MB 108.8 MB/s eta 0:00:02\n",
      "   --------------- ----------------------- 82.5/203.0 MB 108.8 MB/s eta 0:00:02\n",
      "   ---------------- ---------------------- 85.8/203.0 MB 131.2 MB/s eta 0:00:01\n",
      "   ------------------ --------------------- 91.7/203.0 MB 93.0 MB/s eta 0:00:02\n",
      "   ------------------ -------------------- 96.5/203.0 MB 110.0 MB/s eta 0:00:01\n",
      "   ------------------- ------------------ 102.2/203.0 MB 110.0 MB/s eta 0:00:01\n",
      "   -------------------- ----------------- 108.7/203.0 MB 131.2 MB/s eta 0:00:01\n",
      "   --------------------- ---------------- 115.4/203.0 MB 131.2 MB/s eta 0:00:01\n",
      "   ---------------------- --------------- 121.1/203.0 MB 131.2 MB/s eta 0:00:01\n",
      "   ----------------------- -------------- 126.5/203.0 MB 108.8 MB/s eta 0:00:01\n",
      "   ------------------------ ------------- 132.0/203.0 MB 108.8 MB/s eta 0:00:01\n",
      "   ------------------------- ------------ 137.5/203.0 MB 108.8 MB/s eta 0:00:01\n",
      "   -------------------------- ----------- 142.7/203.0 MB 110.0 MB/s eta 0:00:01\n",
      "   --------------------------- ---------- 147.6/203.0 MB 110.0 MB/s eta 0:00:01\n",
      "   ---------------------------- --------- 153.8/203.0 MB 108.8 MB/s eta 0:00:01\n",
      "   ----------------------------- -------- 158.9/203.0 MB 108.8 MB/s eta 0:00:01\n",
      "   ------------------------------ ------- 164.3/203.0 MB 108.8 MB/s eta 0:00:01\n",
      "   ------------------------------- ------ 169.8/203.0 MB 108.8 MB/s eta 0:00:01\n",
      "   -------------------------------- ----- 175.2/203.0 MB 108.8 MB/s eta 0:00:01\n",
      "   --------------------------------- ---- 180.9/203.0 MB 108.8 MB/s eta 0:00:01\n",
      "   ---------------------------------- --- 186.1/203.0 MB 110.0 MB/s eta 0:00:01\n",
      "   ----------------------------------- -- 191.4/203.0 MB 110.0 MB/s eta 0:00:01\n",
      "   ------------------------------------ - 197.1/203.0 MB 108.8 MB/s eta 0:00:01\n",
      "   -------------------------------------  202.7/203.0 MB 108.8 MB/s eta 0:00:01\n",
      "   -------------------------------------  203.0/203.0 MB 131.2 MB/s eta 0:00:01\n",
      "   -------------------------------------  203.0/203.0 MB 131.2 MB/s eta 0:00:01\n",
      "   -------------------------------------  203.0/203.0 MB 131.2 MB/s eta 0:00:01\n",
      "   -------------------------------------  203.0/203.0 MB 131.2 MB/s eta 0:00:01\n",
      "   -------------------------------------  203.0/203.0 MB 131.2 MB/s eta 0:00:01\n",
      "   -------------------------------------  203.0/203.0 MB 131.2 MB/s eta 0:00:01\n",
      "   -------------------------------------  203.0/203.0 MB 131.2 MB/s eta 0:00:01\n",
      "   -------------------------------------  203.0/203.0 MB 131.2 MB/s eta 0:00:01\n",
      "   -------------------------------------  203.0/203.0 MB 131.2 MB/s eta 0:00:01\n",
      "   -------------------------------------  203.0/203.0 MB 131.2 MB/s eta 0:00:01\n",
      "   -------------------------------------  203.0/203.0 MB 131.2 MB/s eta 0:00:01\n",
      "   -------------------------------------  203.0/203.0 MB 131.2 MB/s eta 0:00:01\n",
      "   -------------------------------------  203.0/203.0 MB 131.2 MB/s eta 0:00:01\n",
      "   -------------------------------------  203.0/203.0 MB 131.2 MB/s eta 0:00:01\n",
      "   -------------------------------------  203.0/203.0 MB 131.2 MB/s eta 0:00:01\n",
      "   -------------------------------------  203.0/203.0 MB 131.2 MB/s eta 0:00:01\n",
      "   -------------------------------------  203.0/203.0 MB 131.2 MB/s eta 0:00:01\n",
      "   -------------------------------------  203.0/203.0 MB 131.2 MB/s eta 0:00:01\n",
      "   -------------------------------------  203.0/203.0 MB 131.2 MB/s eta 0:00:01\n",
      "   --------------------------------------- 203.0/203.0 MB 10.4 MB/s eta 0:00:00\n",
      "Downloading sympy-1.13.1-py3-none-any.whl (6.2 MB)\n",
      "   ---------------------------------------- 0.0/6.2 MB ? eta -:--:--\n",
      "   ---------------------------------------  6.1/6.2 MB 132.9 MB/s eta 0:00:01\n",
      "   ---------------------------------------- 6.2/6.2 MB 79.2 MB/s eta 0:00:00\n",
      "Downloading filelock-3.16.1-py3-none-any.whl (16 kB)\n",
      "Downloading networkx-3.4.2-py3-none-any.whl (1.7 MB)\n",
      "   ---------------------------------------- 0.0/1.7 MB ? eta -:--:--\n",
      "   ---------------------------------------- 1.7/1.7 MB 55.3 MB/s eta 0:00:00\n",
      "Downloading mpmath-1.3.0-py3-none-any.whl (536 kB)\n",
      "   ---------------------------------------- 0.0/536.2 kB ? eta -:--:--\n",
      "   --------------------------------------- 536.2/536.2 kB 35.1 MB/s eta 0:00:00\n",
      "Installing collected packages: mpmath, sympy, networkx, filelock, torch\n",
      "Successfully installed filelock-3.16.1 mpmath-1.3.0 networkx-3.4.2 sympy-1.13.1 torch-2.5.1\n",
      "Note: you may need to restart the kernel to use updated packages.\n"
     ]
    },
    {
     "name": "stderr",
     "output_type": "stream",
     "text": [
      "\n",
      "[notice] A new release of pip is available: 23.3.2 -> 24.3.1\n",
      "[notice] To update, run: python.exe -m pip install --upgrade pip\n"
     ]
    }
   ],
   "source": [
    "%pip install torch_geometric torch"
   ]
  },
  {
   "cell_type": "code",
   "execution_count": 8,
   "metadata": {},
   "outputs": [],
   "source": [
    "from torch_geometric.datasets import Planetoid\n",
    "from torch_geometric.transforms import NormalizeFeatures\n",
    "import pandas as pd\n",
    "import models"
   ]
  },
  {
   "cell_type": "code",
   "execution_count": 5,
   "metadata": {},
   "outputs": [
    {
     "name": "stderr",
     "output_type": "stream",
     "text": [
      "Downloading https://github.com/kimiyoung/planetoid/raw/master/data/ind.cora.x\n",
      "Downloading https://github.com/kimiyoung/planetoid/raw/master/data/ind.cora.tx\n",
      "Downloading https://github.com/kimiyoung/planetoid/raw/master/data/ind.cora.allx\n",
      "Downloading https://github.com/kimiyoung/planetoid/raw/master/data/ind.cora.y\n",
      "Downloading https://github.com/kimiyoung/planetoid/raw/master/data/ind.cora.ty\n",
      "Downloading https://github.com/kimiyoung/planetoid/raw/master/data/ind.cora.ally\n",
      "Downloading https://github.com/kimiyoung/planetoid/raw/master/data/ind.cora.graph\n",
      "Downloading https://github.com/kimiyoung/planetoid/raw/master/data/ind.cora.test.index\n",
      "Processing...\n",
      "Done!\n"
     ]
    }
   ],
   "source": [
    "dataset = Planetoid(root='data/Planetoid', name='Cora', transform=NormalizeFeatures())\n"
   ]
  },
  {
   "cell_type": "code",
   "execution_count": 7,
   "metadata": {},
   "outputs": [
    {
     "name": "stdout",
     "output_type": "stream",
     "text": [
      "Broj grafova: 1\n",
      "Feature-a po cvoru: 1433\n",
      "Broj klasa: 7\n",
      "==================================================\n",
      "Data(x=[2708, 1433], edge_index=[2, 10556], y=[2708], train_mask=[2708], val_mask=[2708], test_mask=[2708])\n",
      "Broj cvorova: 2708\n",
      "Broj grana: 10556\n",
      "Broj uzoraka za treniranje: 140\n",
      "Graf nije orijentisan: True\n"
     ]
    }
   ],
   "source": [
    "print(f'Broj grafova: {len(dataset)}')\n",
    "print(f'Feature-a po cvoru: {dataset.num_features}')\n",
    "print(f'Broj klasa: {dataset.num_classes}')\n",
    "print(50*'=')\n",
    "\n",
    "data = dataset[0]  \n",
    "\n",
    "print(data)\n",
    "print(f'Broj cvorova: {data.num_nodes}')\n",
    "print(f'Broj grana: {data.num_edges}')\n",
    "print(f'Broj uzoraka za treniranje: {data.train_mask.sum()}')\n",
    "print(f'Graf nije orijentisan: {data.is_undirected()}')"
   ]
  },
  {
   "cell_type": "markdown",
   "metadata": {},
   "source": [
    "Za trening potrebne su nam 3 matrice\n",
    "- A - matrica susedstva, velicine 2708x2708\n",
    "- X - matrica feature-a, velicine 2708x1433\n",
    "- y - niz ciljnih atributa - u ovom slucaju samo 140 cvorova imaju labele"
   ]
  },
  {
   "cell_type": "code",
   "execution_count": 14,
   "metadata": {},
   "outputs": [],
   "source": [
    "X = data.x\n",
    "y = data.y\n",
    "train_mask = data.train_mask\n",
    "test_mask = data.test_mask"
   ]
  },
  {
   "cell_type": "code",
   "execution_count": 15,
   "metadata": {},
   "outputs": [
    {
     "data": {
      "text/plain": [
       "tensor([[ 633, 1862, 2582,  ...,  598, 1473, 2706],\n",
       "        [   0,    0,    0,  ..., 2707, 2707, 2707]])"
      ]
     },
     "execution_count": 15,
     "metadata": {},
     "output_type": "execute_result"
    }
   ],
   "source": [
    "data.edge_index"
   ]
  },
  {
   "cell_type": "code",
   "execution_count": 9,
   "metadata": {},
   "outputs": [],
   "source": [
    "result_df = pd.DataFrame()"
   ]
  },
  {
   "cell_type": "code",
   "execution_count": null,
   "metadata": {},
   "outputs": [],
   "source": [
    "input_dim = data.num_features\n",
    "output_dim = data.num_classes\n",
    "hidden_dims = [[8],[8,8],[8,8,8],[8,8,8,8],[16],[16,16],[16,16,16]]\n",
    "\n",
    "for hd in hidden_dims:\n",
    "    gcn = models.GCN(input_dim, hd, output_dim)\n",
    "    gcn.train()"
   ]
  }
 ],
 "metadata": {
  "kernelspec": {
   "display_name": "Python 3",
   "language": "python",
   "name": "python3"
  },
  "language_info": {
   "codemirror_mode": {
    "name": "ipython",
    "version": 3
   },
   "file_extension": ".py",
   "mimetype": "text/x-python",
   "name": "python",
   "nbconvert_exporter": "python",
   "pygments_lexer": "ipython3",
   "version": "3.12.1"
  }
 },
 "nbformat": 4,
 "nbformat_minor": 2
}
